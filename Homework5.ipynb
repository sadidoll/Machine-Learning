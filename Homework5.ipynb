{
  "nbformat": 4,
  "nbformat_minor": 0,
  "metadata": {
    "colab": {
      "name": "Homework5.ipynb",
      "provenance": [],
      "authorship_tag": "ABX9TyNWnEo6TwrkiiqD6O1yMmQg",
      "include_colab_link": true
    },
    "kernelspec": {
      "name": "python3",
      "display_name": "Python 3"
    },
    "language_info": {
      "name": "python"
    }
  },
  "cells": [
    {
      "cell_type": "markdown",
      "metadata": {
        "id": "view-in-github",
        "colab_type": "text"
      },
      "source": [
        "<a href=\"https://colab.research.google.com/github/sadidoll/Machine-Learning/blob/main/Homework5.ipynb\" target=\"_parent\"><img src=\"https://colab.research.google.com/assets/colab-badge.svg\" alt=\"Open In Colab\"/></a>"
      ]
    },
    {
      "cell_type": "markdown",
      "metadata": {
        "id": "z7ZF_WspIHq2"
      },
      "source": [
        "#**Machine Learning for Recommender Systems**"
      ]
    },
    {
      "cell_type": "markdown",
      "metadata": {
        "id": "H4Xum9BaIRmc"
      },
      "source": [
        "##Building a small recommender system with the matrix data: “ratings_small.csv”. \n",
        "\n",
        "\n"
      ]
    },
    {
      "cell_type": "code",
      "metadata": {
        "colab": {
          "base_uri": "https://localhost:8080/"
        },
        "id": "phRkDikMVLi_",
        "outputId": "7c7d4a8d-c2f4-45e6-b25f-957c211b6193"
      },
      "source": [
        "pip install scikit-surprise"
      ],
      "execution_count": 3,
      "outputs": [
        {
          "output_type": "stream",
          "text": [
            "Collecting scikit-surprise\n",
            "\u001b[?25l  Downloading https://files.pythonhosted.org/packages/97/37/5d334adaf5ddd65da99fc65f6507e0e4599d092ba048f4302fe8775619e8/scikit-surprise-1.1.1.tar.gz (11.8MB)\n",
            "\u001b[K     |████████████████████████████████| 11.8MB 312kB/s \n",
            "\u001b[?25hRequirement already satisfied: joblib>=0.11 in /usr/local/lib/python3.7/dist-packages (from scikit-surprise) (1.0.1)\n",
            "Requirement already satisfied: numpy>=1.11.2 in /usr/local/lib/python3.7/dist-packages (from scikit-surprise) (1.19.5)\n",
            "Requirement already satisfied: scipy>=1.0.0 in /usr/local/lib/python3.7/dist-packages (from scikit-surprise) (1.4.1)\n",
            "Requirement already satisfied: six>=1.10.0 in /usr/local/lib/python3.7/dist-packages (from scikit-surprise) (1.15.0)\n",
            "Building wheels for collected packages: scikit-surprise\n",
            "  Building wheel for scikit-surprise (setup.py) ... \u001b[?25l\u001b[?25hdone\n",
            "  Created wheel for scikit-surprise: filename=scikit_surprise-1.1.1-cp37-cp37m-linux_x86_64.whl size=1617545 sha256=f626bc0f5d888e091446830b762574d3ec422b6a5dd2476cca02b037a5f420ff\n",
            "  Stored in directory: /root/.cache/pip/wheels/78/9c/3d/41b419c9d2aff5b6e2b4c0fc8d25c538202834058f9ed110d0\n",
            "Successfully built scikit-surprise\n",
            "Installing collected packages: scikit-surprise\n",
            "Successfully installed scikit-surprise-1.1.1\n"
          ],
          "name": "stdout"
        }
      ]
    },
    {
      "cell_type": "code",
      "metadata": {
        "id": "8mXead6XPmhP"
      },
      "source": [
        "## Imports\n",
        "from surprise import SVD\n",
        "from surprise import Dataset\n",
        "from surprise import KNNBasic\n",
        "from surprise.model_selection import cross_validate\n",
        "from surprise.model_selection import GridSearchCV\n",
        "\n",
        "import os\n",
        "import matplotlib.pyplot as plt\n",
        "import pandas as pd\n"
      ],
      "execution_count": 108,
      "outputs": []
    },
    {
      "cell_type": "code",
      "metadata": {
        "colab": {
          "resources": {
            "http://localhost:8080/nbextensions/google.colab/files.js": {
              "data": "Ly8gQ29weXJpZ2h0IDIwMTcgR29vZ2xlIExMQwovLwovLyBMaWNlbnNlZCB1bmRlciB0aGUgQXBhY2hlIExpY2Vuc2UsIFZlcnNpb24gMi4wICh0aGUgIkxpY2Vuc2UiKTsKLy8geW91IG1heSBub3QgdXNlIHRoaXMgZmlsZSBleGNlcHQgaW4gY29tcGxpYW5jZSB3aXRoIHRoZSBMaWNlbnNlLgovLyBZb3UgbWF5IG9idGFpbiBhIGNvcHkgb2YgdGhlIExpY2Vuc2UgYXQKLy8KLy8gICAgICBodHRwOi8vd3d3LmFwYWNoZS5vcmcvbGljZW5zZXMvTElDRU5TRS0yLjAKLy8KLy8gVW5sZXNzIHJlcXVpcmVkIGJ5IGFwcGxpY2FibGUgbGF3IG9yIGFncmVlZCB0byBpbiB3cml0aW5nLCBzb2Z0d2FyZQovLyBkaXN0cmlidXRlZCB1bmRlciB0aGUgTGljZW5zZSBpcyBkaXN0cmlidXRlZCBvbiBhbiAiQVMgSVMiIEJBU0lTLAovLyBXSVRIT1VUIFdBUlJBTlRJRVMgT1IgQ09ORElUSU9OUyBPRiBBTlkgS0lORCwgZWl0aGVyIGV4cHJlc3Mgb3IgaW1wbGllZC4KLy8gU2VlIHRoZSBMaWNlbnNlIGZvciB0aGUgc3BlY2lmaWMgbGFuZ3VhZ2UgZ292ZXJuaW5nIHBlcm1pc3Npb25zIGFuZAovLyBsaW1pdGF0aW9ucyB1bmRlciB0aGUgTGljZW5zZS4KCi8qKgogKiBAZmlsZW92ZXJ2aWV3IEhlbHBlcnMgZm9yIGdvb2dsZS5jb2xhYiBQeXRob24gbW9kdWxlLgogKi8KKGZ1bmN0aW9uKHNjb3BlKSB7CmZ1bmN0aW9uIHNwYW4odGV4dCwgc3R5bGVBdHRyaWJ1dGVzID0ge30pIHsKICBjb25zdCBlbGVtZW50ID0gZG9jdW1lbnQuY3JlYXRlRWxlbWVudCgnc3BhbicpOwogIGVsZW1lbnQudGV4dENvbnRlbnQgPSB0ZXh0OwogIGZvciAoY29uc3Qga2V5IG9mIE9iamVjdC5rZXlzKHN0eWxlQXR0cmlidXRlcykpIHsKICAgIGVsZW1lbnQuc3R5bGVba2V5XSA9IHN0eWxlQXR0cmlidXRlc1trZXldOwogIH0KICByZXR1cm4gZWxlbWVudDsKfQoKLy8gTWF4IG51bWJlciBvZiBieXRlcyB3aGljaCB3aWxsIGJlIHVwbG9hZGVkIGF0IGEgdGltZS4KY29uc3QgTUFYX1BBWUxPQURfU0laRSA9IDEwMCAqIDEwMjQ7CgpmdW5jdGlvbiBfdXBsb2FkRmlsZXMoaW5wdXRJZCwgb3V0cHV0SWQpIHsKICBjb25zdCBzdGVwcyA9IHVwbG9hZEZpbGVzU3RlcChpbnB1dElkLCBvdXRwdXRJZCk7CiAgY29uc3Qgb3V0cHV0RWxlbWVudCA9IGRvY3VtZW50LmdldEVsZW1lbnRCeUlkKG91dHB1dElkKTsKICAvLyBDYWNoZSBzdGVwcyBvbiB0aGUgb3V0cHV0RWxlbWVudCB0byBtYWtlIGl0IGF2YWlsYWJsZSBmb3IgdGhlIG5leHQgY2FsbAogIC8vIHRvIHVwbG9hZEZpbGVzQ29udGludWUgZnJvbSBQeXRob24uCiAgb3V0cHV0RWxlbWVudC5zdGVwcyA9IHN0ZXBzOwoKICByZXR1cm4gX3VwbG9hZEZpbGVzQ29udGludWUob3V0cHV0SWQpOwp9CgovLyBUaGlzIGlzIHJvdWdobHkgYW4gYXN5bmMgZ2VuZXJhdG9yIChub3Qgc3VwcG9ydGVkIGluIHRoZSBicm93c2VyIHlldCksCi8vIHdoZXJlIHRoZXJlIGFyZSBtdWx0aXBsZSBhc3luY2hyb25vdXMgc3RlcHMgYW5kIHRoZSBQeXRob24gc2lkZSBpcyBnb2luZwovLyB0byBwb2xsIGZvciBjb21wbGV0aW9uIG9mIGVhY2ggc3RlcC4KLy8gVGhpcyB1c2VzIGEgUHJvbWlzZSB0byBibG9jayB0aGUgcHl0aG9uIHNpZGUgb24gY29tcGxldGlvbiBvZiBlYWNoIHN0ZXAsCi8vIHRoZW4gcGFzc2VzIHRoZSByZXN1bHQgb2YgdGhlIHByZXZpb3VzIHN0ZXAgYXMgdGhlIGlucHV0IHRvIHRoZSBuZXh0IHN0ZXAuCmZ1bmN0aW9uIF91cGxvYWRGaWxlc0NvbnRpbnVlKG91dHB1dElkKSB7CiAgY29uc3Qgb3V0cHV0RWxlbWVudCA9IGRvY3VtZW50LmdldEVsZW1lbnRCeUlkKG91dHB1dElkKTsKICBjb25zdCBzdGVwcyA9IG91dHB1dEVsZW1lbnQuc3RlcHM7CgogIGNvbnN0IG5leHQgPSBzdGVwcy5uZXh0KG91dHB1dEVsZW1lbnQubGFzdFByb21pc2VWYWx1ZSk7CiAgcmV0dXJuIFByb21pc2UucmVzb2x2ZShuZXh0LnZhbHVlLnByb21pc2UpLnRoZW4oKHZhbHVlKSA9PiB7CiAgICAvLyBDYWNoZSB0aGUgbGFzdCBwcm9taXNlIHZhbHVlIHRvIG1ha2UgaXQgYXZhaWxhYmxlIHRvIHRoZSBuZXh0CiAgICAvLyBzdGVwIG9mIHRoZSBnZW5lcmF0b3IuCiAgICBvdXRwdXRFbGVtZW50Lmxhc3RQcm9taXNlVmFsdWUgPSB2YWx1ZTsKICAgIHJldHVybiBuZXh0LnZhbHVlLnJlc3BvbnNlOwogIH0pOwp9CgovKioKICogR2VuZXJhdG9yIGZ1bmN0aW9uIHdoaWNoIGlzIGNhbGxlZCBiZXR3ZWVuIGVhY2ggYXN5bmMgc3RlcCBvZiB0aGUgdXBsb2FkCiAqIHByb2Nlc3MuCiAqIEBwYXJhbSB7c3RyaW5nfSBpbnB1dElkIEVsZW1lbnQgSUQgb2YgdGhlIGlucHV0IGZpbGUgcGlja2VyIGVsZW1lbnQuCiAqIEBwYXJhbSB7c3RyaW5nfSBvdXRwdXRJZCBFbGVtZW50IElEIG9mIHRoZSBvdXRwdXQgZGlzcGxheS4KICogQHJldHVybiB7IUl0ZXJhYmxlPCFPYmplY3Q+fSBJdGVyYWJsZSBvZiBuZXh0IHN0ZXBzLgogKi8KZnVuY3Rpb24qIHVwbG9hZEZpbGVzU3RlcChpbnB1dElkLCBvdXRwdXRJZCkgewogIGNvbnN0IGlucHV0RWxlbWVudCA9IGRvY3VtZW50LmdldEVsZW1lbnRCeUlkKGlucHV0SWQpOwogIGlucHV0RWxlbWVudC5kaXNhYmxlZCA9IGZhbHNlOwoKICBjb25zdCBvdXRwdXRFbGVtZW50ID0gZG9jdW1lbnQuZ2V0RWxlbWVudEJ5SWQob3V0cHV0SWQpOwogIG91dHB1dEVsZW1lbnQuaW5uZXJIVE1MID0gJyc7CgogIGNvbnN0IHBpY2tlZFByb21pc2UgPSBuZXcgUHJvbWlzZSgocmVzb2x2ZSkgPT4gewogICAgaW5wdXRFbGVtZW50LmFkZEV2ZW50TGlzdGVuZXIoJ2NoYW5nZScsIChlKSA9PiB7CiAgICAgIHJlc29sdmUoZS50YXJnZXQuZmlsZXMpOwogICAgfSk7CiAgfSk7CgogIGNvbnN0IGNhbmNlbCA9IGRvY3VtZW50LmNyZWF0ZUVsZW1lbnQoJ2J1dHRvbicpOwogIGlucHV0RWxlbWVudC5wYXJlbnRFbGVtZW50LmFwcGVuZENoaWxkKGNhbmNlbCk7CiAgY2FuY2VsLnRleHRDb250ZW50ID0gJ0NhbmNlbCB1cGxvYWQnOwogIGNvbnN0IGNhbmNlbFByb21pc2UgPSBuZXcgUHJvbWlzZSgocmVzb2x2ZSkgPT4gewogICAgY2FuY2VsLm9uY2xpY2sgPSAoKSA9PiB7CiAgICAgIHJlc29sdmUobnVsbCk7CiAgICB9OwogIH0pOwoKICAvLyBXYWl0IGZvciB0aGUgdXNlciB0byBwaWNrIHRoZSBmaWxlcy4KICBjb25zdCBmaWxlcyA9IHlpZWxkIHsKICAgIHByb21pc2U6IFByb21pc2UucmFjZShbcGlja2VkUHJvbWlzZSwgY2FuY2VsUHJvbWlzZV0pLAogICAgcmVzcG9uc2U6IHsKICAgICAgYWN0aW9uOiAnc3RhcnRpbmcnLAogICAgfQogIH07CgogIGNhbmNlbC5yZW1vdmUoKTsKCiAgLy8gRGlzYWJsZSB0aGUgaW5wdXQgZWxlbWVudCBzaW5jZSBmdXJ0aGVyIHBpY2tzIGFyZSBub3QgYWxsb3dlZC4KICBpbnB1dEVsZW1lbnQuZGlzYWJsZWQgPSB0cnVlOwoKICBpZiAoIWZpbGVzKSB7CiAgICByZXR1cm4gewogICAgICByZXNwb25zZTogewogICAgICAgIGFjdGlvbjogJ2NvbXBsZXRlJywKICAgICAgfQogICAgfTsKICB9CgogIGZvciAoY29uc3QgZmlsZSBvZiBmaWxlcykgewogICAgY29uc3QgbGkgPSBkb2N1bWVudC5jcmVhdGVFbGVtZW50KCdsaScpOwogICAgbGkuYXBwZW5kKHNwYW4oZmlsZS5uYW1lLCB7Zm9udFdlaWdodDogJ2JvbGQnfSkpOwogICAgbGkuYXBwZW5kKHNwYW4oCiAgICAgICAgYCgke2ZpbGUudHlwZSB8fCAnbi9hJ30pIC0gJHtmaWxlLnNpemV9IGJ5dGVzLCBgICsKICAgICAgICBgbGFzdCBtb2RpZmllZDogJHsKICAgICAgICAgICAgZmlsZS5sYXN0TW9kaWZpZWREYXRlID8gZmlsZS5sYXN0TW9kaWZpZWREYXRlLnRvTG9jYWxlRGF0ZVN0cmluZygpIDoKICAgICAgICAgICAgICAgICAgICAgICAgICAgICAgICAgICAgJ24vYSd9IC0gYCkpOwogICAgY29uc3QgcGVyY2VudCA9IHNwYW4oJzAlIGRvbmUnKTsKICAgIGxpLmFwcGVuZENoaWxkKHBlcmNlbnQpOwoKICAgIG91dHB1dEVsZW1lbnQuYXBwZW5kQ2hpbGQobGkpOwoKICAgIGNvbnN0IGZpbGVEYXRhUHJvbWlzZSA9IG5ldyBQcm9taXNlKChyZXNvbHZlKSA9PiB7CiAgICAgIGNvbnN0IHJlYWRlciA9IG5ldyBGaWxlUmVhZGVyKCk7CiAgICAgIHJlYWRlci5vbmxvYWQgPSAoZSkgPT4gewogICAgICAgIHJlc29sdmUoZS50YXJnZXQucmVzdWx0KTsKICAgICAgfTsKICAgICAgcmVhZGVyLnJlYWRBc0FycmF5QnVmZmVyKGZpbGUpOwogICAgfSk7CiAgICAvLyBXYWl0IGZvciB0aGUgZGF0YSB0byBiZSByZWFkeS4KICAgIGxldCBmaWxlRGF0YSA9IHlpZWxkIHsKICAgICAgcHJvbWlzZTogZmlsZURhdGFQcm9taXNlLAogICAgICByZXNwb25zZTogewogICAgICAgIGFjdGlvbjogJ2NvbnRpbnVlJywKICAgICAgfQogICAgfTsKCiAgICAvLyBVc2UgYSBjaHVua2VkIHNlbmRpbmcgdG8gYXZvaWQgbWVzc2FnZSBzaXplIGxpbWl0cy4gU2VlIGIvNjIxMTU2NjAuCiAgICBsZXQgcG9zaXRpb24gPSAwOwogICAgd2hpbGUgKHBvc2l0aW9uIDwgZmlsZURhdGEuYnl0ZUxlbmd0aCkgewogICAgICBjb25zdCBsZW5ndGggPSBNYXRoLm1pbihmaWxlRGF0YS5ieXRlTGVuZ3RoIC0gcG9zaXRpb24sIE1BWF9QQVlMT0FEX1NJWkUpOwogICAgICBjb25zdCBjaHVuayA9IG5ldyBVaW50OEFycmF5KGZpbGVEYXRhLCBwb3NpdGlvbiwgbGVuZ3RoKTsKICAgICAgcG9zaXRpb24gKz0gbGVuZ3RoOwoKICAgICAgY29uc3QgYmFzZTY0ID0gYnRvYShTdHJpbmcuZnJvbUNoYXJDb2RlLmFwcGx5KG51bGwsIGNodW5rKSk7CiAgICAgIHlpZWxkIHsKICAgICAgICByZXNwb25zZTogewogICAgICAgICAgYWN0aW9uOiAnYXBwZW5kJywKICAgICAgICAgIGZpbGU6IGZpbGUubmFtZSwKICAgICAgICAgIGRhdGE6IGJhc2U2NCwKICAgICAgICB9LAogICAgICB9OwogICAgICBwZXJjZW50LnRleHRDb250ZW50ID0KICAgICAgICAgIGAke01hdGgucm91bmQoKHBvc2l0aW9uIC8gZmlsZURhdGEuYnl0ZUxlbmd0aCkgKiAxMDApfSUgZG9uZWA7CiAgICB9CiAgfQoKICAvLyBBbGwgZG9uZS4KICB5aWVsZCB7CiAgICByZXNwb25zZTogewogICAgICBhY3Rpb246ICdjb21wbGV0ZScsCiAgICB9CiAgfTsKfQoKc2NvcGUuZ29vZ2xlID0gc2NvcGUuZ29vZ2xlIHx8IHt9OwpzY29wZS5nb29nbGUuY29sYWIgPSBzY29wZS5nb29nbGUuY29sYWIgfHwge307CnNjb3BlLmdvb2dsZS5jb2xhYi5fZmlsZXMgPSB7CiAgX3VwbG9hZEZpbGVzLAogIF91cGxvYWRGaWxlc0NvbnRpbnVlLAp9Owp9KShzZWxmKTsK",
              "ok": true,
              "headers": [
                [
                  "content-type",
                  "application/javascript"
                ]
              ],
              "status": 200,
              "status_text": ""
            }
          },
          "base_uri": "https://localhost:8080/",
          "height": 70
        },
        "id": "sjW9f1r8nW6f",
        "outputId": "14abe705-d01a-4d5f-e00f-723abcf7b56a"
      },
      "source": [
        "from google.colab import files\n",
        "uploaded = files.upload()"
      ],
      "execution_count": 109,
      "outputs": [
        {
          "output_type": "display_data",
          "data": {
            "text/html": [
              "\n",
              "     <input type=\"file\" id=\"files-18a007f0-92a4-4e22-bb4e-c5ab9c050855\" name=\"files[]\" multiple disabled\n",
              "        style=\"border:none\" />\n",
              "     <output id=\"result-18a007f0-92a4-4e22-bb4e-c5ab9c050855\">\n",
              "      Upload widget is only available when the cell has been executed in the\n",
              "      current browser session. Please rerun this cell to enable.\n",
              "      </output>\n",
              "      <script src=\"/nbextensions/google.colab/files.js\"></script> "
            ],
            "text/plain": [
              "<IPython.core.display.HTML object>"
            ]
          },
          "metadata": {
            "tags": []
          }
        },
        {
          "output_type": "stream",
          "text": [
            "Saving ratings_small.csv to ratings_small (3).csv\n"
          ],
          "name": "stdout"
        }
      ]
    },
    {
      "cell_type": "markdown",
      "metadata": {
        "id": "fRaBUCyyWqX_"
      },
      "source": [
        "##**a.   Read data from “ratings_small.csv” with line format: 'userID movieID rating timestamp'**\n"
      ]
    },
    {
      "cell_type": "code",
      "metadata": {
        "colab": {
          "base_uri": "https://localhost:8080/"
        },
        "id": "5wWRde-JWs12",
        "outputId": "9f546455-df8e-4346-ee94-8b825bb7c1ce"
      },
      "source": [
        "ratings_df = pd.read_csv('ratings_small.csv')\n",
        "print('Reading_small Data: ', ratings_df.columns)"
      ],
      "execution_count": 14,
      "outputs": [
        {
          "output_type": "stream",
          "text": [
            "Reading_small Data:  Index(['userId', 'movieId', 'rating', 'timestamp'], dtype='object')\n"
          ],
          "name": "stdout"
        }
      ]
    },
    {
      "cell_type": "code",
      "metadata": {
        "colab": {
          "base_uri": "https://localhost:8080/",
          "height": 391
        },
        "id": "9Uv5802YjPgA",
        "outputId": "c3db7e1c-32b9-4699-8181-bf0f28f52d90"
      },
      "source": [
        "ratings_df.drop('timestamp', axis = 1)"
      ],
      "execution_count": 52,
      "outputs": [
        {
          "output_type": "execute_result",
          "data": {
            "text/html": [
              "<div>\n",
              "<style scoped>\n",
              "    .dataframe tbody tr th:only-of-type {\n",
              "        vertical-align: middle;\n",
              "    }\n",
              "\n",
              "    .dataframe tbody tr th {\n",
              "        vertical-align: top;\n",
              "    }\n",
              "\n",
              "    .dataframe thead th {\n",
              "        text-align: right;\n",
              "    }\n",
              "</style>\n",
              "<table border=\"1\" class=\"dataframe\">\n",
              "  <thead>\n",
              "    <tr style=\"text-align: right;\">\n",
              "      <th></th>\n",
              "      <th>userId</th>\n",
              "      <th>movieId</th>\n",
              "      <th>rating</th>\n",
              "    </tr>\n",
              "  </thead>\n",
              "  <tbody>\n",
              "    <tr>\n",
              "      <th>0</th>\n",
              "      <td>1</td>\n",
              "      <td>31</td>\n",
              "      <td>2.5</td>\n",
              "    </tr>\n",
              "    <tr>\n",
              "      <th>1</th>\n",
              "      <td>1</td>\n",
              "      <td>1029</td>\n",
              "      <td>3.0</td>\n",
              "    </tr>\n",
              "    <tr>\n",
              "      <th>2</th>\n",
              "      <td>1</td>\n",
              "      <td>1061</td>\n",
              "      <td>3.0</td>\n",
              "    </tr>\n",
              "    <tr>\n",
              "      <th>3</th>\n",
              "      <td>1</td>\n",
              "      <td>1129</td>\n",
              "      <td>2.0</td>\n",
              "    </tr>\n",
              "    <tr>\n",
              "      <th>4</th>\n",
              "      <td>1</td>\n",
              "      <td>1172</td>\n",
              "      <td>4.0</td>\n",
              "    </tr>\n",
              "    <tr>\n",
              "      <th>...</th>\n",
              "      <td>...</td>\n",
              "      <td>...</td>\n",
              "      <td>...</td>\n",
              "    </tr>\n",
              "    <tr>\n",
              "      <th>99999</th>\n",
              "      <td>671</td>\n",
              "      <td>6268</td>\n",
              "      <td>2.5</td>\n",
              "    </tr>\n",
              "    <tr>\n",
              "      <th>100000</th>\n",
              "      <td>671</td>\n",
              "      <td>6269</td>\n",
              "      <td>4.0</td>\n",
              "    </tr>\n",
              "    <tr>\n",
              "      <th>100001</th>\n",
              "      <td>671</td>\n",
              "      <td>6365</td>\n",
              "      <td>4.0</td>\n",
              "    </tr>\n",
              "    <tr>\n",
              "      <th>100002</th>\n",
              "      <td>671</td>\n",
              "      <td>6385</td>\n",
              "      <td>2.5</td>\n",
              "    </tr>\n",
              "    <tr>\n",
              "      <th>100003</th>\n",
              "      <td>671</td>\n",
              "      <td>6565</td>\n",
              "      <td>3.5</td>\n",
              "    </tr>\n",
              "  </tbody>\n",
              "</table>\n",
              "<p>100004 rows × 3 columns</p>\n",
              "</div>"
            ],
            "text/plain": [
              "        userId  movieId  rating\n",
              "0            1       31     2.5\n",
              "1            1     1029     3.0\n",
              "2            1     1061     3.0\n",
              "3            1     1129     2.0\n",
              "4            1     1172     4.0\n",
              "...        ...      ...     ...\n",
              "99999      671     6268     2.5\n",
              "100000     671     6269     4.0\n",
              "100001     671     6365     4.0\n",
              "100002     671     6385     2.5\n",
              "100003     671     6565     3.5\n",
              "\n",
              "[100004 rows x 3 columns]"
            ]
          },
          "metadata": {
            "tags": []
          },
          "execution_count": 52
        }
      ]
    },
    {
      "cell_type": "markdown",
      "metadata": {
        "id": "ZVj-UHxAJPoI"
      },
      "source": [
        "\n",
        "\n",
        "##**b. MAE and RMSE are two famous metrics for evaluating the performances of a recommender system.**\n",
        "\n",
        "##**c. Compute the average MAE and RMSE of the Probabilistic Matrix Factorization (PMF), User based Collaborative Filtering, Item based Collaborative Filtering, under the 5-folds cross-validation** \n",
        "\n",
        "\n"
      ]
    },
    {
      "cell_type": "code",
      "metadata": {
        "id": "QUqcvPogg7jn"
      },
      "source": [
        "reader = Reader(rating_scale=(0.5,5.0))\n",
        "ratings_data = Dataset.load_from_df(ratings_df[['userId', 'movieId', 'rating']],reader=reader)"
      ],
      "execution_count": 28,
      "outputs": []
    },
    {
      "cell_type": "code",
      "metadata": {
        "colab": {
          "base_uri": "https://localhost:8080/"
        },
        "id": "j6egHCSJddHB",
        "outputId": "982e6782-0978-45fc-88f9-1343c1c442be"
      },
      "source": [
        "## Computing Average MAE and RMSE of the Probablistic Matrix Factorization(PMF) under 5-folds cross-validation\n",
        "algo = SVD(biased=False)\n",
        "PMF_res = cross_validate(algo, ratings_data, measures=['RMSE', 'MAE'], cv = 5,verbose=True)\n"
      ],
      "execution_count": 29,
      "outputs": [
        {
          "output_type": "stream",
          "text": [
            "Evaluating RMSE, MAE of algorithm SVD on 5 split(s).\n",
            "\n",
            "                  Fold 1  Fold 2  Fold 3  Fold 4  Fold 5  Mean    Std     \n",
            "RMSE (testset)    1.0111  1.0125  1.0122  1.0072  1.0236  1.0133  0.0055  \n",
            "MAE (testset)     0.7783  0.7825  0.7805  0.7772  0.7877  0.7812  0.0037  \n",
            "Fit time          5.03    5.07    5.03    5.04    5.03    5.04    0.02    \n",
            "Test time         0.13    0.23    0.13    0.13    0.24    0.17    0.05    \n"
          ],
          "name": "stdout"
        }
      ]
    },
    {
      "cell_type": "code",
      "metadata": {
        "colab": {
          "base_uri": "https://localhost:8080/"
        },
        "id": "bXvjcI5_tjxr",
        "outputId": "db1409a1-c968-4740-c37d-d24cb4062fbb"
      },
      "source": [
        "## Computing Average MAE and RMSE of the User based Collaborative Filtering under 5-folds cross-validation\n",
        "User_Coll_filter = KNNBasic(sim_options={'user_based': True})\n",
        "UCF = cross_validate(User_Coll_filter, ratings_data,measures=['RMSE', 'MAE'], cv = 5,verbose=True)"
      ],
      "execution_count": 31,
      "outputs": [
        {
          "output_type": "stream",
          "text": [
            "Computing the msd similarity matrix...\n",
            "Done computing similarity matrix.\n",
            "Computing the msd similarity matrix...\n",
            "Done computing similarity matrix.\n",
            "Computing the msd similarity matrix...\n",
            "Done computing similarity matrix.\n",
            "Computing the msd similarity matrix...\n",
            "Done computing similarity matrix.\n",
            "Computing the msd similarity matrix...\n",
            "Done computing similarity matrix.\n",
            "Evaluating RMSE, MAE of algorithm KNNBasic on 5 split(s).\n",
            "\n",
            "                  Fold 1  Fold 2  Fold 3  Fold 4  Fold 5  Mean    Std     \n",
            "RMSE (testset)    0.9672  0.9761  0.9686  0.9622  0.9715  0.9691  0.0046  \n",
            "MAE (testset)     0.7450  0.7507  0.7409  0.7412  0.7470  0.7450  0.0037  \n",
            "Fit time          0.17    0.21    0.20    0.21    0.21    0.20    0.02    \n",
            "Test time         1.95    1.83    1.95    1.80    1.81    1.87    0.07    \n"
          ],
          "name": "stdout"
        }
      ]
    },
    {
      "cell_type": "code",
      "metadata": {
        "colab": {
          "base_uri": "https://localhost:8080/"
        },
        "id": "l4w6eOP2wA17",
        "outputId": "f08937e2-4c3d-4445-b32b-379f40b50fd1"
      },
      "source": [
        "## Computing Average MAE and RMSE of the Item based Collaborative Filtering under 5-folds cross-validation\n",
        "Item_Coll_filter = KNNBasic(sim_options={'user_based': False})\n",
        "ICF = cross_validate(User_Coll_filter, ratings_data,measures=['RMSE', 'MAE'], cv = 5,verbose=True)"
      ],
      "execution_count": 32,
      "outputs": [
        {
          "output_type": "stream",
          "text": [
            "Computing the msd similarity matrix...\n",
            "Done computing similarity matrix.\n",
            "Computing the msd similarity matrix...\n",
            "Done computing similarity matrix.\n",
            "Computing the msd similarity matrix...\n",
            "Done computing similarity matrix.\n",
            "Computing the msd similarity matrix...\n",
            "Done computing similarity matrix.\n",
            "Computing the msd similarity matrix...\n",
            "Done computing similarity matrix.\n",
            "Evaluating RMSE, MAE of algorithm KNNBasic on 5 split(s).\n",
            "\n",
            "                  Fold 1  Fold 2  Fold 3  Fold 4  Fold 5  Mean    Std     \n",
            "RMSE (testset)    0.9596  0.9740  0.9738  0.9646  0.9744  0.9693  0.0061  \n",
            "MAE (testset)     0.7391  0.7476  0.7470  0.7413  0.7501  0.7450  0.0041  \n",
            "Fit time          0.22    0.20    0.20    0.20    0.21    0.21    0.01    \n",
            "Test time         1.91    1.81    1.90    1.85    1.93    1.88    0.04    \n"
          ],
          "name": "stdout"
        }
      ]
    },
    {
      "cell_type": "markdown",
      "metadata": {
        "id": "f3yPk7dsKUFi"
      },
      "source": [
        "\n",
        "\n",
        "##**d. Compare the average (mean) performances of User-based collaborative filtering, item-based collaborative filtering, PMF with respect to RMSE and MAE.**\n",
        "\n"
      ]
    },
    {
      "cell_type": "code",
      "metadata": {
        "colab": {
          "base_uri": "https://localhost:8080/"
        },
        "id": "Lp4anaxE0TgF",
        "outputId": "67acf0a4-aa94-4516-c828-39103323cba4"
      },
      "source": [
        "compare_res_df = pd.DataFrame(columns=['RMSE Average','MAE Average'], index = ['Probabilistic Matrix Factorization','UserBased_Collaborative filtering','ItemBased_Collaborative filtering'])\n",
        "\n",
        "compare_res_df.loc['Probabilistic Matrix Factorization']['RMSE Average'] = PMF_res['test_rmse'].mean()\n",
        "compare_res_df.loc['UserBased_Collaborative filtering']['RMSE Average'] = UCF['test_rmse'].mean()\n",
        "compare_res_df.loc['ItemBased_Collaborative filtering']['RMSE Average'] = ICF['test_rmse'].mean()\n",
        "\n",
        "compare_res_df.loc['Probabilistic Matrix Factorization']['MAE Average'] = PMF_res['test_mae'].mean()\n",
        "compare_res_df.loc['UserBased_Collaborative filtering']['MAE Average'] = UCF['test_mae'].mean()\n",
        "compare_res_df.loc['ItemBased_Collaborative filtering']['MAE Average'] = ICF['test_mae'].mean()\n",
        "\n",
        "print(compare_res_df)"
      ],
      "execution_count": 58,
      "outputs": [
        {
          "output_type": "stream",
          "text": [
            "                                   RMSE Average MAE Average\n",
            "Probabilistic Matrix Factorization      1.01332    0.781228\n",
            "UserBased_Collaborative filtering      0.969128    0.744959\n",
            "ItemBased_Collaborative filtering      0.969258    0.745024\n"
          ],
          "name": "stdout"
        }
      ]
    },
    {
      "cell_type": "markdown",
      "metadata": {
        "id": "BJKxJdVHKh3e"
      },
      "source": [
        "##**e.\tExamine how the cosine, MSD (Mean Squared Difference), and Pearson similarities impact the performances of User based Collaborative Filtering and Item based Collaborative Filtering. Plot your results.**\n"
      ]
    },
    {
      "cell_type": "code",
      "metadata": {
        "colab": {
          "base_uri": "https://localhost:8080/"
        },
        "id": "Bas3nplc_d1A",
        "outputId": "644d6560-de30-48bb-ce46-b20dc14d67d7"
      },
      "source": [
        "## Cosine similarity \n",
        "cosine_user_Coll_filter = KNNBasic(sim_options={'name': 'cosine','user_based': True})\n",
        "CUCF = cross_validate(cosine_user_Coll_filter, ratings_data,measures=['RMSE'], cv = 5,verbose=True)\n"
      ],
      "execution_count": 40,
      "outputs": [
        {
          "output_type": "stream",
          "text": [
            "Computing the cosine similarity matrix...\n",
            "Done computing similarity matrix.\n",
            "Computing the cosine similarity matrix...\n",
            "Done computing similarity matrix.\n",
            "Computing the cosine similarity matrix...\n",
            "Done computing similarity matrix.\n",
            "Computing the cosine similarity matrix...\n",
            "Done computing similarity matrix.\n",
            "Computing the cosine similarity matrix...\n",
            "Done computing similarity matrix.\n",
            "Evaluating RMSE of algorithm KNNBasic on 5 split(s).\n",
            "\n",
            "                  Fold 1  Fold 2  Fold 3  Fold 4  Fold 5  Mean    Std     \n",
            "RMSE (testset)    0.9903  0.9905  0.9911  1.0062  0.9976  0.9951  0.0062  \n",
            "Fit time          0.46    0.49    0.47    0.48    0.48    0.47    0.01    \n",
            "Test time         1.96    1.85    1.95    1.82    1.83    1.88    0.06    \n"
          ],
          "name": "stdout"
        }
      ]
    },
    {
      "cell_type": "code",
      "metadata": {
        "colab": {
          "base_uri": "https://localhost:8080/"
        },
        "id": "SRpO2q9bChbG",
        "outputId": "192e1653-d582-4a35-96f0-81e5f2208b8d"
      },
      "source": [
        "## Mean Squared Differnce (MSD) \n",
        "MSD_user_Coll_filter = KNNBasic(sim_options={'name': 'MSD','user_based': True})\n",
        "MSDUCF = cross_validate(MSD_user_Coll_filter, ratings_data,measures=['RMSE'], cv = 5,verbose=True)"
      ],
      "execution_count": 41,
      "outputs": [
        {
          "output_type": "stream",
          "text": [
            "Computing the msd similarity matrix...\n",
            "Done computing similarity matrix.\n",
            "Computing the msd similarity matrix...\n",
            "Done computing similarity matrix.\n",
            "Computing the msd similarity matrix...\n",
            "Done computing similarity matrix.\n",
            "Computing the msd similarity matrix...\n",
            "Done computing similarity matrix.\n",
            "Computing the msd similarity matrix...\n",
            "Done computing similarity matrix.\n",
            "Evaluating RMSE of algorithm KNNBasic on 5 split(s).\n",
            "\n",
            "                  Fold 1  Fold 2  Fold 3  Fold 4  Fold 5  Mean    Std     \n",
            "RMSE (testset)    0.9775  0.9741  0.9603  0.9626  0.9726  0.9694  0.0067  \n",
            "Fit time          0.17    0.21    0.20    0.20    0.21    0.20    0.01    \n",
            "Test time         2.01    1.82    1.98    1.82    1.95    1.92    0.08    \n"
          ],
          "name": "stdout"
        }
      ]
    },
    {
      "cell_type": "code",
      "metadata": {
        "colab": {
          "base_uri": "https://localhost:8080/"
        },
        "id": "fxTbW8a0C-FW",
        "outputId": "73c61b4d-c4f6-403e-ae9f-523cdb7c04eb"
      },
      "source": [
        "## Pearson Similarity\n",
        "Pearson_user_Coll_filter = KNNBasic(sim_options={'name': 'pearson','user_based': True})\n",
        "PUCF = cross_validate(Pearson_user_Coll_filter, ratings_data,measures=['RMSE'], cv = 5,verbose=True)"
      ],
      "execution_count": 42,
      "outputs": [
        {
          "output_type": "stream",
          "text": [
            "Computing the pearson similarity matrix...\n",
            "Done computing similarity matrix.\n",
            "Computing the pearson similarity matrix...\n",
            "Done computing similarity matrix.\n",
            "Computing the pearson similarity matrix...\n",
            "Done computing similarity matrix.\n",
            "Computing the pearson similarity matrix...\n",
            "Done computing similarity matrix.\n",
            "Computing the pearson similarity matrix...\n",
            "Done computing similarity matrix.\n",
            "Evaluating RMSE of algorithm KNNBasic on 5 split(s).\n",
            "\n",
            "                  Fold 1  Fold 2  Fold 3  Fold 4  Fold 5  Mean    Std     \n",
            "RMSE (testset)    1.0050  1.0002  0.9968  1.0012  0.9930  0.9992  0.0041  \n",
            "Fit time          0.63    0.66    0.64    0.65    0.65    0.64    0.01    \n",
            "Test time         1.81    1.90    1.77    1.94    1.83    1.85    0.06    \n"
          ],
          "name": "stdout"
        }
      ]
    },
    {
      "cell_type": "code",
      "metadata": {
        "colab": {
          "base_uri": "https://localhost:8080/"
        },
        "id": "b3A6VHn8DZCB",
        "outputId": "b6a7c114-2e9f-417a-bf48-1edf1eb5ecb3"
      },
      "source": [
        "## Cosine similarity Item based\n",
        "cosine_item_Coll_filter = KNNBasic(sim_options={'name': 'cosine','user_based': False})\n",
        "CICF = cross_validate(cosine_item_Coll_filter, ratings_data,measures=['RMSE'], cv = 5,verbose=True)"
      ],
      "execution_count": 43,
      "outputs": [
        {
          "output_type": "stream",
          "text": [
            "Computing the cosine similarity matrix...\n",
            "Done computing similarity matrix.\n",
            "Computing the cosine similarity matrix...\n",
            "Done computing similarity matrix.\n",
            "Computing the cosine similarity matrix...\n",
            "Done computing similarity matrix.\n",
            "Computing the cosine similarity matrix...\n",
            "Done computing similarity matrix.\n",
            "Computing the cosine similarity matrix...\n",
            "Done computing similarity matrix.\n",
            "Evaluating RMSE of algorithm KNNBasic on 5 split(s).\n",
            "\n",
            "                  Fold 1  Fold 2  Fold 3  Fold 4  Fold 5  Mean    Std     \n",
            "RMSE (testset)    0.9938  0.9957  1.0018  0.9961  0.9855  0.9946  0.0053  \n",
            "Fit time          16.47   15.73   19.07   16.48   15.06   16.56   1.36    \n",
            "Test time         8.18    9.61    8.39    8.64    8.14    8.59    0.54    \n"
          ],
          "name": "stdout"
        }
      ]
    },
    {
      "cell_type": "code",
      "metadata": {
        "colab": {
          "base_uri": "https://localhost:8080/"
        },
        "id": "cj7KKncXDhGs",
        "outputId": "97905cc0-d399-4cef-e370-d0e57d94cb30"
      },
      "source": [
        "## Mean Squared Differnce (MSD)  Item based\n",
        "MSD_item_Coll_filter = KNNBasic(sim_options={'name': 'MSD','user_based': False})\n",
        "MSDICF = cross_validate(MSD_item_Coll_filter, ratings_data,measures=['RMSE'], cv = 5,verbose=True)"
      ],
      "execution_count": 44,
      "outputs": [
        {
          "output_type": "stream",
          "text": [
            "Computing the msd similarity matrix...\n",
            "Done computing similarity matrix.\n",
            "Computing the msd similarity matrix...\n",
            "Done computing similarity matrix.\n",
            "Computing the msd similarity matrix...\n",
            "Done computing similarity matrix.\n",
            "Computing the msd similarity matrix...\n",
            "Done computing similarity matrix.\n",
            "Computing the msd similarity matrix...\n",
            "Done computing similarity matrix.\n",
            "Evaluating RMSE of algorithm KNNBasic on 5 split(s).\n",
            "\n",
            "                  Fold 1  Fold 2  Fold 3  Fold 4  Fold 5  Mean    Std     \n",
            "RMSE (testset)    0.9414  0.9390  0.9338  0.9279  0.9312  0.9347  0.0050  \n",
            "Fit time          4.09    4.40    4.62    4.46    4.32    4.38    0.17    \n",
            "Test time         8.42    8.57    9.06    8.86    8.56    8.70    0.23    \n"
          ],
          "name": "stdout"
        }
      ]
    },
    {
      "cell_type": "code",
      "metadata": {
        "colab": {
          "base_uri": "https://localhost:8080/"
        },
        "id": "eGyGcsDLDq-I",
        "outputId": "66566850-6f28-44c9-c09c-7c7eaac1de44"
      },
      "source": [
        "## Pearson Similarity\n",
        "Pearson_item_Coll_filter = KNNBasic(sim_options={'name': 'pearson','user_based': False})\n",
        "PICF = cross_validate(Pearson_item_Coll_filter, ratings_data,measures=['RMSE'], cv = 5,verbose=True)"
      ],
      "execution_count": 45,
      "outputs": [
        {
          "output_type": "stream",
          "text": [
            "Computing the pearson similarity matrix...\n",
            "Done computing similarity matrix.\n",
            "Computing the pearson similarity matrix...\n",
            "Done computing similarity matrix.\n",
            "Computing the pearson similarity matrix...\n",
            "Done computing similarity matrix.\n",
            "Computing the pearson similarity matrix...\n",
            "Done computing similarity matrix.\n",
            "Computing the pearson similarity matrix...\n",
            "Done computing similarity matrix.\n",
            "Evaluating RMSE of algorithm KNNBasic on 5 split(s).\n",
            "\n",
            "                  Fold 1  Fold 2  Fold 3  Fold 4  Fold 5  Mean    Std     \n",
            "RMSE (testset)    0.9941  0.9878  0.9840  0.9923  0.9904  0.9897  0.0035  \n",
            "Fit time          21.87   24.34   22.55   22.54   22.40   22.74   0.84    \n",
            "Test time         8.33    9.60    8.79    9.23    8.92    8.98    0.42    \n"
          ],
          "name": "stdout"
        }
      ]
    },
    {
      "cell_type": "code",
      "metadata": {
        "colab": {
          "base_uri": "https://localhost:8080/"
        },
        "id": "ARJrcYEPKnkq",
        "outputId": "ac84182c-30d8-462b-f512-954961a6c417"
      },
      "source": [
        "## comparision \n",
        "compare_df = pd.DataFrame(columns=['Cosine','MSD','Pearson'], index = ['UserBased_Collaborative filtering','ItemBased_Collaborative filtering'])\n",
        "\n",
        "compare_df.loc['UserBased_Collaborative filtering']['Cosine'] = CUCF['test_rmse'].mean()\n",
        "compare_df.loc['UserBased_Collaborative filtering']['MSD'] = MSDUCF['test_rmse'].mean()\n",
        "compare_df.loc['UserBased_Collaborative filtering']['Pearson'] = PUCF['test_rmse'].mean()\n",
        "\n",
        "compare_df.loc['ItemBased_Collaborative filtering']['Cosine'] = CICF['test_rmse'].mean()\n",
        "compare_df.loc['ItemBased_Collaborative filtering']['MSD'] = MSDICF['test_rmse'].mean()\n",
        "compare_df.loc['ItemBased_Collaborative filtering']['Pearson'] = PICF['test_rmse'].mean()\n",
        "\n",
        "print(compare_df)"
      ],
      "execution_count": 63,
      "outputs": [
        {
          "output_type": "stream",
          "text": [
            "                                     Cosine       MSD   Pearson\n",
            "UserBased_Collaborative filtering  0.995143   0.96942  0.999237\n",
            "ItemBased_Collaborative filtering   0.99458  0.934661  0.989718\n"
          ],
          "name": "stdout"
        }
      ]
    },
    {
      "cell_type": "code",
      "metadata": {
        "colab": {
          "base_uri": "https://localhost:8080/",
          "height": 266
        },
        "id": "qiixmGc1EX-w",
        "outputId": "a1475a63-be16-4a0c-fd70-5cd7fb47ae71"
      },
      "source": [
        "## Plot the results\n",
        "\n",
        "plt.figure()\n",
        "plt.plot([0.,1.], compare_df['Cosine'],'-go', label='Cosine',linewidth=0.8)\n",
        "plt.plot([0,1], compare_df['MSD'],'-bo',label='MSD',linewidth=0.8)\n",
        "plt.plot([0,1], compare_df['Pearson'],'-ko', label='Pearson',linewidth=0.8)\n",
        "\n",
        "plt.xticks([0,1], ['UserBased_Collaborative filtering','ItemBased_Collaborative filtering'])\n",
        "plt.legend()\n",
        "plt.grid()\n",
        "plt.show();"
      ],
      "execution_count": 84,
      "outputs": [
        {
          "output_type": "display_data",
          "data": {
            "image/png": "[encoded data removed]",
            "text/plain": [
              "<Figure size 432x288 with 1 Axes>"
            ]
          },
          "metadata": {
            "tags": [],
            "needs_background": "light"
          }
        }
      ]
    },
    {
      "cell_type": "markdown",
      "metadata": {
        "id": "2QdZj4aBZUkB"
      },
      "source": [
        "##**Is the impact of the three metrics on User based Collaborative Filtering consistent with the impact of the three metrics on Item based Collaborative Filtering?**\n",
        "\n"
      ]
    },
    {
      "cell_type": "markdown",
      "metadata": {
        "id": "CfkCyAmhZaQt"
      },
      "source": [
        "No the metrics are not consistent between the User based CF and Item CF. Item based CF seem to work best with the least value of RMSE for the Mean squared Difference(MSD). User based CF seem to have a bad perforamnce for Pearson Similarity. \n",
        "After analyzing the plot its evident that Mean Squared Differnce(MSD) is a better metrics."
      ]
    },
    {
      "cell_type": "markdown",
      "metadata": {
        "id": "OGS-QpORKr74"
      },
      "source": [
        "##**f.\tExamine how the number of neighbors impacts the performances of User based Collaborative Filtering and Item based Collaborative Filtering? Plot your results.**\n"
      ]
    },
    {
      "cell_type": "code",
      "metadata": {
        "colab": {
          "base_uri": "https://localhost:8080/"
        },
        "id": "gVX_xuFVbR7o",
        "outputId": "6f497280-c5b0-440c-a0db-ccb23a5eb8c0"
      },
      "source": [
        "## User based Collaborative Filtering for 40 neighbours \n",
        "User_cf_knn_40 = KNNBasic(k = 40, sim_options={'name': 'MSD','user_based': True})\n",
        "UCF_neighbour = cross_validate(User_cf_knn_40, ratings_data,measures=['RMSE'], cv = 5,verbose=True)"
      ],
      "execution_count": 91,
      "outputs": [
        {
          "output_type": "stream",
          "text": [
            "Computing the msd similarity matrix...\n",
            "Done computing similarity matrix.\n",
            "Computing the msd similarity matrix...\n",
            "Done computing similarity matrix.\n",
            "Computing the msd similarity matrix...\n",
            "Done computing similarity matrix.\n",
            "Computing the msd similarity matrix...\n",
            "Done computing similarity matrix.\n",
            "Computing the msd similarity matrix...\n",
            "Done computing similarity matrix.\n",
            "Evaluating RMSE of algorithm KNNBasic on 5 split(s).\n",
            "\n",
            "                  Fold 1  Fold 2  Fold 3  Fold 4  Fold 5  Mean    Std     \n",
            "RMSE (testset)    0.9683  0.9659  0.9722  0.9712  0.9697  0.9695  0.0022  \n",
            "Fit time          0.23    0.20    0.22    0.20    0.22    0.21    0.01    \n",
            "Test time         1.96    1.87    1.85    2.05    1.87    1.92    0.08    \n"
          ],
          "name": "stdout"
        }
      ]
    },
    {
      "cell_type": "code",
      "metadata": {
        "colab": {
          "base_uri": "https://localhost:8080/"
        },
        "id": "glHdoESzeAB-",
        "outputId": "cdff5df7-56b3-45a9-a4fc-c9cec557b472"
      },
      "source": [
        "## User based Collaborative Filtering for 80 neighbours \n",
        "User_cf_knn_80 = KNNBasic(k = 80, sim_options={'name': 'MSD','user_based': True})\n",
        "UCF_neighbour_2 = cross_validate(User_cf_knn_80, ratings_data,measures=['RMSE'], cv = 5,verbose=True)"
      ],
      "execution_count": 92,
      "outputs": [
        {
          "output_type": "stream",
          "text": [
            "Computing the msd similarity matrix...\n",
            "Done computing similarity matrix.\n",
            "Computing the msd similarity matrix...\n",
            "Done computing similarity matrix.\n",
            "Computing the msd similarity matrix...\n",
            "Done computing similarity matrix.\n",
            "Computing the msd similarity matrix...\n",
            "Done computing similarity matrix.\n",
            "Computing the msd similarity matrix...\n",
            "Done computing similarity matrix.\n",
            "Evaluating RMSE of algorithm KNNBasic on 5 split(s).\n",
            "\n",
            "                  Fold 1  Fold 2  Fold 3  Fold 4  Fold 5  Mean    Std     \n",
            "RMSE (testset)    0.9836  0.9818  0.9639  0.9774  0.9708  0.9755  0.0073  \n",
            "Fit time          0.24    0.20    0.21    0.21    0.21    0.21    0.01    \n",
            "Test time         2.39    2.05    2.08    2.31    2.06    2.18    0.14    \n"
          ],
          "name": "stdout"
        }
      ]
    },
    {
      "cell_type": "code",
      "metadata": {
        "colab": {
          "base_uri": "https://localhost:8080/"
        },
        "id": "UUquGwTHeVoN",
        "outputId": "4e492cc2-d811-4291-cc0d-cea2b91ea81e"
      },
      "source": [
        "## User based Collaborative Filtering for 120 neighbours \n",
        "User_cf_knn_120 = KNNBasic(k = 120, sim_options={'name': 'MSD','user_based': True})\n",
        "UCF_neighbour_3 = cross_validate(User_cf_knn_120, ratings_data,measures=['RMSE'], cv = 5,verbose=True)"
      ],
      "execution_count": 95,
      "outputs": [
        {
          "output_type": "stream",
          "text": [
            "Computing the msd similarity matrix...\n",
            "Done computing similarity matrix.\n",
            "Computing the msd similarity matrix...\n",
            "Done computing similarity matrix.\n",
            "Computing the msd similarity matrix...\n",
            "Done computing similarity matrix.\n",
            "Computing the msd similarity matrix...\n",
            "Done computing similarity matrix.\n",
            "Computing the msd similarity matrix...\n",
            "Done computing similarity matrix.\n",
            "Evaluating RMSE of algorithm KNNBasic on 5 split(s).\n",
            "\n",
            "                  Fold 1  Fold 2  Fold 3  Fold 4  Fold 5  Mean    Std     \n",
            "RMSE (testset)    0.9805  0.9874  0.9768  0.9792  0.9711  0.9790  0.0053  \n",
            "Fit time          0.18    0.19    0.21    0.21    0.20    0.20    0.01    \n",
            "Test time         2.36    2.09    2.11    2.36    2.12    2.21    0.13    \n"
          ],
          "name": "stdout"
        }
      ]
    },
    {
      "cell_type": "code",
      "metadata": {
        "colab": {
          "base_uri": "https://localhost:8080/"
        },
        "id": "n1Y2dz3zhuRC",
        "outputId": "69fe8379-2c33-4e42-c457-21471d1295ad"
      },
      "source": [
        "## User based Collaborative Filtering for 180 neighbours \n",
        "User_cf_knn_180 = KNNBasic(k = 180, sim_options={'name': 'MSD','user_based': True})\n",
        "UCF_neighbour_5 = cross_validate(User_cf_knn_180, ratings_data,measures=['RMSE'], cv = 5,verbose=True)"
      ],
      "execution_count": 104,
      "outputs": [
        {
          "output_type": "stream",
          "text": [
            "Computing the msd similarity matrix...\n",
            "Done computing similarity matrix.\n",
            "Computing the msd similarity matrix...\n",
            "Done computing similarity matrix.\n",
            "Computing the msd similarity matrix...\n",
            "Done computing similarity matrix.\n",
            "Computing the msd similarity matrix...\n",
            "Done computing similarity matrix.\n",
            "Computing the msd similarity matrix...\n",
            "Done computing similarity matrix.\n",
            "Evaluating RMSE of algorithm KNNBasic on 5 split(s).\n",
            "\n",
            "                  Fold 1  Fold 2  Fold 3  Fold 4  Fold 5  Mean    Std     \n",
            "RMSE (testset)    0.9784  0.9816  0.9739  0.9859  0.9721  0.9784  0.0050  \n",
            "Fit time          0.17    0.19    0.19    0.21    0.20    0.19    0.01    \n",
            "Test time         2.01    2.03    2.05    1.99    1.96    2.01    0.03    \n"
          ],
          "name": "stdout"
        }
      ]
    },
    {
      "cell_type": "code",
      "metadata": {
        "colab": {
          "base_uri": "https://localhost:8080/"
        },
        "id": "-jwkLVg2epWA",
        "outputId": "69a3d2c1-61db-4660-cbcd-b1a4d5626948"
      },
      "source": [
        "## User based Collaborative Filtering for 1000 neighbours \n",
        "User_cf_knn_1000 = KNNBasic(k = 1000, sim_options={'name': 'MSD','user_based': True})\n",
        "UCF_neighbour_4 = cross_validate(User_cf_knn_1000, ratings_data,measures=['RMSE'], cv = 5,verbose=True)"
      ],
      "execution_count": 96,
      "outputs": [
        {
          "output_type": "stream",
          "text": [
            "Computing the msd similarity matrix...\n",
            "Done computing similarity matrix.\n",
            "Computing the msd similarity matrix...\n",
            "Done computing similarity matrix.\n",
            "Computing the msd similarity matrix...\n",
            "Done computing similarity matrix.\n",
            "Computing the msd similarity matrix...\n",
            "Done computing similarity matrix.\n",
            "Computing the msd similarity matrix...\n",
            "Done computing similarity matrix.\n",
            "Evaluating RMSE of algorithm KNNBasic on 5 split(s).\n",
            "\n",
            "                  Fold 1  Fold 2  Fold 3  Fold 4  Fold 5  Mean    Std     \n",
            "RMSE (testset)    0.9814  0.9779  0.9745  0.9750  0.9843  0.9786  0.0038  \n",
            "Fit time          0.16    0.21    0.20    0.21    0.20    0.20    0.02    \n",
            "Test time         2.05    1.98    1.99    2.22    1.95    2.04    0.10    \n"
          ],
          "name": "stdout"
        }
      ]
    },
    {
      "cell_type": "code",
      "metadata": {
        "colab": {
          "base_uri": "https://localhost:8080/"
        },
        "id": "2arV-3H4fB4i",
        "outputId": "a5c10d42-f6ed-45d8-8fd3-bee6f8f927c7"
      },
      "source": [
        "## Item based Collaborative Filtering for 40 neighbours \n",
        "Item_cf_knn_40 = KNNBasic(k = 40, sim_options={'name': 'MSD','user_based': False})\n",
        "ICF_neighbour = cross_validate(Item_cf_knn_40, ratings_data,measures=['RMSE'], cv = 5,verbose=True)"
      ],
      "execution_count": 98,
      "outputs": [
        {
          "output_type": "stream",
          "text": [
            "Computing the msd similarity matrix...\n",
            "Done computing similarity matrix.\n",
            "Computing the msd similarity matrix...\n",
            "Done computing similarity matrix.\n",
            "Computing the msd similarity matrix...\n",
            "Done computing similarity matrix.\n",
            "Computing the msd similarity matrix...\n",
            "Done computing similarity matrix.\n",
            "Computing the msd similarity matrix...\n",
            "Done computing similarity matrix.\n",
            "Evaluating RMSE of algorithm KNNBasic on 5 split(s).\n",
            "\n",
            "                  Fold 1  Fold 2  Fold 3  Fold 4  Fold 5  Mean    Std     \n",
            "RMSE (testset)    0.9393  0.9325  0.9370  0.9315  0.9343  0.9349  0.0029  \n",
            "Fit time          4.49    4.64    4.80    4.69    4.86    4.69    0.13    \n",
            "Test time         8.24    8.62    8.90    8.49    8.76    8.60    0.23    \n"
          ],
          "name": "stdout"
        }
      ]
    },
    {
      "cell_type": "code",
      "metadata": {
        "colab": {
          "base_uri": "https://localhost:8080/"
        },
        "id": "rfMvOnxIfoz1",
        "outputId": "00c5bbc0-fc4a-4dba-9f52-69bbb864e40e"
      },
      "source": [
        "## Item based Collaborative Filtering for 80 neighbours \n",
        "Item_cf_knn_80 = KNNBasic(k = 80, sim_options={'name': 'MSD','user_based': False})\n",
        "ICF_neighbour_1 = cross_validate(Item_cf_knn_80, ratings_data,measures=['RMSE'], cv = 5,verbose=True)"
      ],
      "execution_count": 99,
      "outputs": [
        {
          "output_type": "stream",
          "text": [
            "Computing the msd similarity matrix...\n",
            "Done computing similarity matrix.\n",
            "Computing the msd similarity matrix...\n",
            "Done computing similarity matrix.\n",
            "Computing the msd similarity matrix...\n",
            "Done computing similarity matrix.\n",
            "Computing the msd similarity matrix...\n",
            "Done computing similarity matrix.\n",
            "Computing the msd similarity matrix...\n",
            "Done computing similarity matrix.\n",
            "Evaluating RMSE of algorithm KNNBasic on 5 split(s).\n",
            "\n",
            "                  Fold 1  Fold 2  Fold 3  Fold 4  Fold 5  Mean    Std     \n",
            "RMSE (testset)    0.9318  0.9260  0.9358  0.9312  0.9320  0.9313  0.0031  \n",
            "Fit time          4.58    4.75    4.40    4.57    4.56    4.57    0.11    \n",
            "Test time         9.59    9.57    9.89    9.64    9.84    9.70    0.13    \n"
          ],
          "name": "stdout"
        }
      ]
    },
    {
      "cell_type": "code",
      "metadata": {
        "colab": {
          "base_uri": "https://localhost:8080/"
        },
        "id": "wwo3Xol0fs_d",
        "outputId": "cc2752f0-0340-4470-992c-ee88f52624a0"
      },
      "source": [
        "## Item based Collaborative Filtering for 120 neighbours \n",
        "Item_cf_knn_120 = KNNBasic(k = 120, sim_options={'name': 'MSD','user_based': False})\n",
        "ICF_neighbour_2 = cross_validate(Item_cf_knn_120, ratings_data,measures=['RMSE'], cv = 5,verbose=True)"
      ],
      "execution_count": 100,
      "outputs": [
        {
          "output_type": "stream",
          "text": [
            "Computing the msd similarity matrix...\n",
            "Done computing similarity matrix.\n",
            "Computing the msd similarity matrix...\n",
            "Done computing similarity matrix.\n",
            "Computing the msd similarity matrix...\n",
            "Done computing similarity matrix.\n",
            "Computing the msd similarity matrix...\n",
            "Done computing similarity matrix.\n",
            "Computing the msd similarity matrix...\n",
            "Done computing similarity matrix.\n",
            "Evaluating RMSE of algorithm KNNBasic on 5 split(s).\n",
            "\n",
            "                  Fold 1  Fold 2  Fold 3  Fold 4  Fold 5  Mean    Std     \n",
            "RMSE (testset)    0.9343  0.9354  0.9285  0.9347  0.9321  0.9330  0.0025  \n",
            "Fit time          4.46    4.42    4.46    4.66    4.44    4.49    0.08    \n",
            "Test time         10.64   10.50   10.35   10.62   10.58   10.54   0.10    \n"
          ],
          "name": "stdout"
        }
      ]
    },
    {
      "cell_type": "code",
      "metadata": {
        "colab": {
          "base_uri": "https://localhost:8080/"
        },
        "id": "k-78jlNphBk-",
        "outputId": "5aa6ca52-cf75-45d7-ddd8-409feaac581f"
      },
      "source": [
        "## Item based Collaborative Filtering for 180 neighbours \n",
        "Item_cf_knn_180 = KNNBasic(k = 180, sim_options={'name': 'MSD','user_based': False})\n",
        "ICF_neighbour_3 = cross_validate(Item_cf_knn_180, ratings_data,measures=['RMSE'], cv = 5,verbose=True)"
      ],
      "execution_count": 103,
      "outputs": [
        {
          "output_type": "stream",
          "text": [
            "Computing the msd similarity matrix...\n",
            "Done computing similarity matrix.\n",
            "Computing the msd similarity matrix...\n",
            "Done computing similarity matrix.\n",
            "Computing the msd similarity matrix...\n",
            "Done computing similarity matrix.\n",
            "Computing the msd similarity matrix...\n",
            "Done computing similarity matrix.\n",
            "Computing the msd similarity matrix...\n",
            "Done computing similarity matrix.\n",
            "Evaluating RMSE of algorithm KNNBasic on 5 split(s).\n",
            "\n",
            "                  Fold 1  Fold 2  Fold 3  Fold 4  Fold 5  Mean    Std     \n",
            "RMSE (testset)    0.9356  0.9389  0.9317  0.9393  0.9333  0.9358  0.0030  \n",
            "Fit time          5.71    4.85    4.59    4.41    4.51    4.81    0.47    \n",
            "Test time         11.99   11.67   11.74   12.18   11.71   11.86   0.19    \n"
          ],
          "name": "stdout"
        }
      ]
    },
    {
      "cell_type": "code",
      "metadata": {
        "colab": {
          "base_uri": "https://localhost:8080/"
        },
        "id": "pzenXZMsfzD5",
        "outputId": "a377aba4-0031-4848-e4ff-d31e59d60966"
      },
      "source": [
        "## Item based Collaborative Filtering for 1000 neighbours \n",
        "Item_cf_knn_1000 = KNNBasic(k = 1000, sim_options={'name': 'MSD','user_based': False})\n",
        "ICF_neighbour_4 = cross_validate(Item_cf_knn_1000, ratings_data,measures=['RMSE'], cv = 5,verbose=True)"
      ],
      "execution_count": 102,
      "outputs": [
        {
          "output_type": "stream",
          "text": [
            "Computing the msd similarity matrix...\n",
            "Done computing similarity matrix.\n",
            "Computing the msd similarity matrix...\n",
            "Done computing similarity matrix.\n",
            "Computing the msd similarity matrix...\n",
            "Done computing similarity matrix.\n",
            "Computing the msd similarity matrix...\n",
            "Done computing similarity matrix.\n",
            "Computing the msd similarity matrix...\n",
            "Done computing similarity matrix.\n",
            "Evaluating RMSE of algorithm KNNBasic on 5 split(s).\n",
            "\n",
            "                  Fold 1  Fold 2  Fold 3  Fold 4  Fold 5  Mean    Std     \n",
            "RMSE (testset)    0.9442  0.9508  0.9458  0.9371  0.9508  0.9457  0.0051  \n",
            "Fit time          4.62    4.01    4.26    4.52    4.24    4.33    0.22    \n",
            "Test time         13.74   13.92   14.30   14.10   14.07   14.03   0.19    \n"
          ],
          "name": "stdout"
        }
      ]
    },
    {
      "cell_type": "code",
      "metadata": {
        "colab": {
          "base_uri": "https://localhost:8080/"
        },
        "id": "ek5-DA_SiNSK",
        "outputId": "4495c08f-482f-4613-b213-1a841e1ee15f"
      },
      "source": [
        "## Comparing all the k values\n",
        "compare_neighbours_df = pd.DataFrame(columns=['k = 40','k = 80', 'k = 120', 'k = 180', 'k = 1000'], index = ['UserBasedCF','ItemBasedCF'])\n",
        "\n",
        "compare_neighbours_df.loc['UserBasedCF']['k = 40'] = UCF_neighbour['test_rmse'].mean()\n",
        "compare_neighbours_df.loc['UserBasedCF']['k = 80'] = UCF_neighbour_2['test_rmse'].mean()\n",
        "compare_neighbours_df.loc['UserBasedCF']['k = 120'] = UCF_neighbour_3['test_rmse'].mean()\n",
        "compare_neighbours_df.loc['UserBasedCF']['k = 180'] = UCF_neighbour_5['test_rmse'].mean()\n",
        "compare_neighbours_df.loc['UserBasedCF']['k = 1000'] = UCF_neighbour_4['test_rmse'].mean()\n",
        "\n",
        "compare_neighbours_df.loc['ItemBasedCF']['k = 40'] = ICF_neighbour['test_rmse'].mean()\n",
        "compare_neighbours_df.loc['ItemBasedCF']['k = 80'] = ICF_neighbour_1['test_rmse'].mean()\n",
        "compare_neighbours_df.loc['ItemBasedCF']['k = 120'] = ICF_neighbour_2['test_rmse'].mean()\n",
        "compare_neighbours_df.loc['ItemBasedCF']['k = 180'] = ICF_neighbour_3['test_rmse'].mean()\n",
        "compare_neighbours_df.loc['ItemBasedCF']['k = 1000'] = ICF_neighbour_4['test_rmse'].mean()\n",
        "\n",
        "print(compare_neighbours_df)\n"
      ],
      "execution_count": 105,
      "outputs": [
        {
          "output_type": "stream",
          "text": [
            "               k = 40    k = 80   k = 120   k = 180  k = 1000\n",
            "UserBasedCF   0.96947  0.977659  0.979007   0.97837  0.978632\n",
            "ItemBasedCF  0.934922  0.931341  0.932984  0.935754  0.945744\n"
          ],
          "name": "stdout"
        }
      ]
    },
    {
      "cell_type": "markdown",
      "metadata": {
        "id": "IO5v4I3-kBq-"
      },
      "source": [
        "## Plot the results"
      ]
    },
    {
      "cell_type": "code",
      "metadata": {
        "colab": {
          "base_uri": "https://localhost:8080/",
          "height": 265
        },
        "id": "0z6uOcQzkF2O",
        "outputId": "6e719453-ead0-4edf-902a-3e0be6e82ec0"
      },
      "source": [
        "plt.figure()\n",
        "plt.plot([0.,1.], compare_neighbours_df['k = 40'],'-go', label='K: 40',linewidth=0.8)\n",
        "plt.plot([0,1], compare_neighbours_df['k = 80'],'-bo', label='K: 80',linewidth=0.8)\n",
        "plt.plot([0,1], compare_neighbours_df['k = 120'],'-ro', label='K: 120',linewidth=0.8)\n",
        "plt.plot([0,1], compare_neighbours_df['k = 180'],'-mo', label='K: 180',linewidth=0.8)\n",
        "plt.plot([0,1], compare_neighbours_df['k = 1000'],'-ko', label='K: 1000',linewidth=0.8)\n",
        "\n",
        "plt.xticks([0,1], ['UserBasedCF','ItemBasedCF'])\n",
        "plt.legend()\n",
        "plt.grid()\n",
        "plt.show();"
      ],
      "execution_count": 106,
      "outputs": [
        {
          "output_type": "display_data",
          "data": {
            "image/png": "[encoded data removed]",
            "text/plain": [
              "<Figure size 432x288 with 1 Axes>"
            ]
          },
          "metadata": {
            "tags": [],
            "needs_background": "light"
          }
        }
      ]
    },
    {
      "cell_type": "markdown",
      "metadata": {
        "id": "bmjdQw_slP9R"
      },
      "source": [
        "## **Observations:**\n",
        "\n",
        "\n",
        "1.   The Item based CF has lower RMSE than UserCF\n",
        "2.   From the plot, 180 neigbours seems to give higher RMSE for both Item based CF and User based CF\n",
        "3. 40 Neighbours seem to look good for User Based CF but not for Item based CF. The ideal number of neighbours seem to be good at 80 or near that value\n",
        "\n"
      ]
    },
    {
      "cell_type": "markdown",
      "metadata": {
        "id": "aLeAHAdgK3L_"
      },
      "source": [
        "##**g.\tIdentify the best number of neighbor (denoted by K) for User/Item based collaborative filtering in terms of RMSE.**\n"
      ]
    },
    {
      "cell_type": "code",
      "metadata": {
        "colab": {
          "base_uri": "https://localhost:8080/"
        },
        "id": "2Qdr2qwmnh9-",
        "outputId": "0b66399c-8425-480d-82a0-38be900db43b"
      },
      "source": [
        "## User based Collaborative Filtering &Item based CF comparision in terms of RMSE and neighbours\n",
        "algo = KNNBasic\n",
        "sim_options={'name': ['msd'],'user_based': [True]}\n",
        "UCF_neighbours_Grid = GridSearchCV(algo, param_grid = {'k': [40,50,80,120,180], 'sim_options': sim_options},measures=['rmse'], cv = 5)\n",
        "UCF_neighbours_Grid.fit(ratings_data)\n",
        "print(\"Best RMSE value for User based CF:\", UCF_neighbours_Grid.best_score['rmse'])\n",
        "print(\"Best k for User Based CF:\", UCF_neighbours_Grid.best_params['rmse'])"
      ],
      "execution_count": 119,
      "outputs": [
        {
          "output_type": "stream",
          "text": [
            "Computing the msd similarity matrix...\n",
            "Done computing similarity matrix.\n",
            "Computing the msd similarity matrix...\n",
            "Done computing similarity matrix.\n",
            "Computing the msd similarity matrix...\n",
            "Done computing similarity matrix.\n",
            "Computing the msd similarity matrix...\n",
            "Done computing similarity matrix.\n",
            "Computing the msd similarity matrix...\n",
            "Done computing similarity matrix.\n",
            "Computing the msd similarity matrix...\n",
            "Done computing similarity matrix.\n",
            "Computing the msd similarity matrix...\n",
            "Done computing similarity matrix.\n",
            "Computing the msd similarity matrix...\n",
            "Done computing similarity matrix.\n",
            "Computing the msd similarity matrix...\n",
            "Done computing similarity matrix.\n",
            "Computing the msd similarity matrix...\n",
            "Done computing similarity matrix.\n",
            "Computing the msd similarity matrix...\n",
            "Done computing similarity matrix.\n",
            "Computing the msd similarity matrix...\n",
            "Done computing similarity matrix.\n",
            "Computing the msd similarity matrix...\n",
            "Done computing similarity matrix.\n",
            "Computing the msd similarity matrix...\n",
            "Done computing similarity matrix.\n",
            "Computing the msd similarity matrix...\n",
            "Done computing similarity matrix.\n",
            "Computing the msd similarity matrix...\n",
            "Done computing similarity matrix.\n",
            "Computing the msd similarity matrix...\n",
            "Done computing similarity matrix.\n",
            "Computing the msd similarity matrix...\n",
            "Done computing similarity matrix.\n",
            "Computing the msd similarity matrix...\n",
            "Done computing similarity matrix.\n",
            "Computing the msd similarity matrix...\n",
            "Done computing similarity matrix.\n",
            "Computing the msd similarity matrix...\n",
            "Done computing similarity matrix.\n",
            "Computing the msd similarity matrix...\n",
            "Done computing similarity matrix.\n",
            "Computing the msd similarity matrix...\n",
            "Done computing similarity matrix.\n",
            "Computing the msd similarity matrix...\n",
            "Done computing similarity matrix.\n",
            "Computing the msd similarity matrix...\n",
            "Done computing similarity matrix.\n",
            "Best RMSE value for User based CF: 0.9684643657949671\n",
            "Best k for User Based CF: {'k': 40, 'sim_options': {'name': 'msd', 'user_based': True}}\n"
          ],
          "name": "stdout"
        }
      ]
    },
    {
      "cell_type": "code",
      "metadata": {
        "colab": {
          "base_uri": "https://localhost:8080/"
        },
        "id": "b734TlwyvULa",
        "outputId": "33d71a0c-c5ce-4617-e08d-7e4a3ea646bb"
      },
      "source": [
        "\n",
        "sim_options_Item={'name': ['msd'],'user_based': [False]}\n",
        "ICF_neighbours_Grid = GridSearchCV(algo, param_grid = {'k': [40,50,80,120,180], 'sim_options': sim_options_Item},measures=['rmse'], cv = 5)\n",
        "ICF_neighbours_Grid.fit(ratings_data)\n",
        "print(\"Best RMSE value for Item based CF:\", ICF_neighbours_Grid.best_score['rmse'])\n",
        "print(\"Best k for Item Based CF:\", ICF_neighbours_Grid.best_params['rmse'])"
      ],
      "execution_count": 120,
      "outputs": [
        {
          "output_type": "stream",
          "text": [
            "Computing the msd similarity matrix...\n",
            "Done computing similarity matrix.\n",
            "Computing the msd similarity matrix...\n",
            "Done computing similarity matrix.\n",
            "Computing the msd similarity matrix...\n",
            "Done computing similarity matrix.\n",
            "Computing the msd similarity matrix...\n",
            "Done computing similarity matrix.\n",
            "Computing the msd similarity matrix...\n",
            "Done computing similarity matrix.\n",
            "Computing the msd similarity matrix...\n",
            "Done computing similarity matrix.\n",
            "Computing the msd similarity matrix...\n",
            "Done computing similarity matrix.\n",
            "Computing the msd similarity matrix...\n",
            "Done computing similarity matrix.\n",
            "Computing the msd similarity matrix...\n",
            "Done computing similarity matrix.\n",
            "Computing the msd similarity matrix...\n",
            "Done computing similarity matrix.\n",
            "Computing the msd similarity matrix...\n",
            "Done computing similarity matrix.\n",
            "Computing the msd similarity matrix...\n",
            "Done computing similarity matrix.\n",
            "Computing the msd similarity matrix...\n",
            "Done computing similarity matrix.\n",
            "Computing the msd similarity matrix...\n",
            "Done computing similarity matrix.\n",
            "Computing the msd similarity matrix...\n",
            "Done computing similarity matrix.\n",
            "Computing the msd similarity matrix...\n",
            "Done computing similarity matrix.\n",
            "Computing the msd similarity matrix...\n",
            "Done computing similarity matrix.\n",
            "Computing the msd similarity matrix...\n",
            "Done computing similarity matrix.\n",
            "Computing the msd similarity matrix...\n",
            "Done computing similarity matrix.\n",
            "Computing the msd similarity matrix...\n",
            "Done computing similarity matrix.\n",
            "Computing the msd similarity matrix...\n",
            "Done computing similarity matrix.\n",
            "Computing the msd similarity matrix...\n",
            "Done computing similarity matrix.\n",
            "Computing the msd similarity matrix...\n",
            "Done computing similarity matrix.\n",
            "Computing the msd similarity matrix...\n",
            "Done computing similarity matrix.\n",
            "Computing the msd similarity matrix...\n",
            "Done computing similarity matrix.\n",
            "Best RMSE value for Item based CF: 0.9320316883448114\n",
            "Best k for Item Based CF: {'k': 80, 'sim_options': {'name': 'msd', 'user_based': False}}\n"
          ],
          "name": "stdout"
        }
      ]
    },
    {
      "cell_type": "markdown",
      "metadata": {
        "id": "oeZwY0OsxlXF"
      },
      "source": [
        " ## **Is the best K of User based collaborative filtering the same with the best K of Item based collaborative filtering?**\n",
        "\n",
        " No. the best K of User based CF is not the same as the best K of Item based CF. User based CF performs best when k is 40, howver Item based CF performs best when k = 80. The plot that was plotted above also depcits the same result as GridsearchCV."
      ]
    }
  ]
}